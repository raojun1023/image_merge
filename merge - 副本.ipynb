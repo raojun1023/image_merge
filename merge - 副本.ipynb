{
 "cells": [
  {
   "cell_type": "code",
   "execution_count": 36,
   "id": "f66b0c1d",
   "metadata": {
    "ExecuteTime": {
     "end_time": "2024-08-03T14:08:06.071573Z",
     "start_time": "2024-08-03T14:08:06.055658Z"
    }
   },
   "outputs": [],
   "source": [
    "import os\n",
    "import re  \n",
    "import PIL.Image as Image\n",
    "from PIL import ImageDraw,ImageFont,ImageOps\n",
    "\n",
    "\n",
    "def resize_by_width(infile, image_size):\n",
    "    im = Image.open(infile)\n",
    "    (x, y) = im.size\n",
    "    lv = round(x / image_size, 2) + 0.01\n",
    "    x_s = int(x // lv)\n",
    "    y_s = int(y // lv)\n",
    "    print(\"x_s\", x_s, y_s)\n",
    "    out = im.resize((x_s, y_s), Image.LANCZOS)\n",
    "    blank_image = Image.new(\"RGB\", (x, y), (0, 0, 0))\n",
    "    blank_image.paste(out, (0, 0))\n",
    "    pad_height = 100  # 需要调整  块的高度\n",
    "    pad_width = x  \n",
    "    pad_color = (0, 0, 0)  \n",
    "    out = ImageOps.pad(blank_image, (pad_width, pad_height + y), method=Image.Resampling.NEAREST, color=pad_color)\n",
    "    \n",
    "    return out\n",
    "\n",
    "\n",
    "\n",
    "\n",
    "def get_new_img_xy(infile, image_size):\n",
    "    im = Image.open(infile)\n",
    "    (x, y) = im.size\n",
    "    y+=200  # 需要调整，炼丹\n",
    "    lv = round(x / image_size, 2) + 0.01\n",
    "    x_s = x // lv\n",
    "    y_s = y // lv\n",
    "    # print(\"x_s\", x_s, y_s)\n",
    "    # out = im.resize((x_s, y_s), Image.ANTIALIAS)\n",
    "    return x_s, y_s\n",
    "\n",
    "\n",
    "# 定义图像拼接函数\n",
    "def image_compose(image_colnum, image_size, image_rownum, image_names, image_save_path, x_new, y_new):\n",
    "    print(image_names)\n",
    "    to_image = Image.new('RGB', (image_colnum * x_new, image_rownum * y_new))  # 创建一个新图\n",
    "    draw = ImageDraw.Draw(to_image)\n",
    "    fnt = ImageFont.truetype(r'C:\\Windows\\Fonts\\simkai.ttf', 50) \n",
    "    total_num = 0\n",
    "    for y in range(1, image_rownum + 1):\n",
    "        for x in range(1, image_colnum + 1):\n",
    "            from_image = resize_by_width(image_names[image_colnum * (y - 1) + x - 1], image_size)\n",
    "            to_image.paste(from_image, ((x - 1) * x_new, (y - 1) * y_new))\n",
    "            print(total_num)\n",
    "            total_num += 1\n",
    "            title = image_names[total_num-1].split('\\\\')[-1]  \n",
    "            print(title)\n",
    "            first_underscore_index = title.index(\"_\")  \n",
    "            last_underscore_index = title.rindex(\"_\")  \n",
    "            title = title[first_underscore_index + 1:last_underscore_index] \n",
    "            print(title)\n",
    "            draw.text( ((x - 1) * x_new, (y - 1) * y_new), title, fill=\"white\",font=fnt)        \n",
    "            if total_num == len(image_names):\n",
    "                break\n",
    "    return to_image.save(image_save_path)  # 保存新图\n",
    "\n",
    "\n",
    "\n",
    "def get_image_list_fullpath(dir_path):\n",
    "    file_name_list = os.listdir(dir_path)\n",
    "    image_fullpath_list = []\n",
    "    for file_name_one in file_name_list:\n",
    "        file_one_path = os.path.join(dir_path, file_name_one)\n",
    "        if os.path.isfile(file_one_path):\n",
    "            image_fullpath_list.append(file_one_path)\n",
    "        else:\n",
    "            img_path_list = get_image_list_fullpath(file_one_path)\n",
    "            image_fullpath_list.extend(img_path_list)\n",
    "    return image_fullpath_list\n",
    "\n",
    "\n",
    "def merge_images(image_dir_path,image_size,image_colnum):\n",
    "    image_fullpath_list = get_image_list_fullpath(image_dir_path)\n",
    "    print(\"image_fullpath_list\", len(image_fullpath_list), image_fullpath_list)\n",
    "\n",
    "    image_save_path = r'{}.jpg'.format(image_dir_path)  # 图片转换后的地址\n",
    "    image_rownum_yu = len(image_fullpath_list) % image_colnum\n",
    "    if image_rownum_yu == 0:\n",
    "        image_rownum = len(image_fullpath_list) // image_colnum\n",
    "    else:\n",
    "        image_rownum = len(image_fullpath_list) // image_colnum + 1\n",
    "\n",
    "    x_list = []\n",
    "    y_list = []\n",
    "    for img_file in image_fullpath_list:\n",
    "        img_x, img_y = get_new_img_xy(img_file, image_size)\n",
    "        x_list.append(img_x)\n",
    "        y_list.append(img_y)\n",
    "\n",
    "    print(\"x_list\", sorted(x_list))\n",
    "    print(\"y_list\", sorted(y_list))\n",
    "    x_new = int(x_list[len(x_list) // 5 * 4])\n",
    "    y_new = int(y_list[len(y_list) // 5 * 4])\n",
    "    print(\" x_new, y_new\", x_new, y_new)\n",
    "    image_compose(image_colnum, image_size, image_rownum, image_fullpath_list, image_save_path, x_new, y_new)  "
   ]
  },
  {
   "cell_type": "code",
   "execution_count": 37,
   "id": "8fcd096b",
   "metadata": {
    "ExecuteTime": {
     "end_time": "2024-08-03T14:08:07.162751Z",
     "start_time": "2024-08-03T14:08:06.262578Z"
    },
    "scrolled": true
   },
   "outputs": [
    {
     "name": "stdout",
     "output_type": "stream",
     "text": [
      "image_fullpath_list 8 ['C:\\\\Users\\\\Jun Rao\\\\Desktop\\\\综合办公\\\\img_merge\\\\血红蛋白-75mg\\\\Project_X-2.5-1-400_ch00.tif', 'C:\\\\Users\\\\Jun Rao\\\\Desktop\\\\综合办公\\\\img_merge\\\\血红蛋白-75mg\\\\Project_X-2.5-1-800_ch00.tif', 'C:\\\\Users\\\\Jun Rao\\\\Desktop\\\\综合办公\\\\img_merge\\\\血红蛋白-75mg\\\\Project_X-2.5-2-400_ch00.tif', 'C:\\\\Users\\\\Jun Rao\\\\Desktop\\\\综合办公\\\\img_merge\\\\血红蛋白-75mg\\\\Project_X-2.5-2-800_ch00.tif', 'C:\\\\Users\\\\Jun Rao\\\\Desktop\\\\综合办公\\\\img_merge\\\\血红蛋白-75mg\\\\Project_X-5.5-1-400_ch00.tif', 'C:\\\\Users\\\\Jun Rao\\\\Desktop\\\\综合办公\\\\img_merge\\\\血红蛋白-75mg\\\\Project_X-5.5-1-800_ch00.tif', 'C:\\\\Users\\\\Jun Rao\\\\Desktop\\\\综合办公\\\\img_merge\\\\血红蛋白-75mg\\\\Project_X-5.5-2-400_ch00.tif', 'C:\\\\Users\\\\Jun Rao\\\\Desktop\\\\综合办公\\\\img_merge\\\\血红蛋白-75mg\\\\Project_X-5.5-2-800_ch00.tif']\n",
      "x_list [1072.0, 1072.0, 1072.0, 1072.0, 1072.0, 1072.0, 1072.0, 1072.0]\n",
      "y_list [916.0, 916.0, 916.0, 916.0, 916.0, 916.0, 916.0, 916.0]\n",
      " x_new, y_new 1072 916\n",
      "['C:\\\\Users\\\\Jun Rao\\\\Desktop\\\\综合办公\\\\img_merge\\\\血红蛋白-75mg\\\\Project_X-2.5-1-400_ch00.tif', 'C:\\\\Users\\\\Jun Rao\\\\Desktop\\\\综合办公\\\\img_merge\\\\血红蛋白-75mg\\\\Project_X-2.5-1-800_ch00.tif', 'C:\\\\Users\\\\Jun Rao\\\\Desktop\\\\综合办公\\\\img_merge\\\\血红蛋白-75mg\\\\Project_X-2.5-2-400_ch00.tif', 'C:\\\\Users\\\\Jun Rao\\\\Desktop\\\\综合办公\\\\img_merge\\\\血红蛋白-75mg\\\\Project_X-2.5-2-800_ch00.tif', 'C:\\\\Users\\\\Jun Rao\\\\Desktop\\\\综合办公\\\\img_merge\\\\血红蛋白-75mg\\\\Project_X-5.5-1-400_ch00.tif', 'C:\\\\Users\\\\Jun Rao\\\\Desktop\\\\综合办公\\\\img_merge\\\\血红蛋白-75mg\\\\Project_X-5.5-1-800_ch00.tif', 'C:\\\\Users\\\\Jun Rao\\\\Desktop\\\\综合办公\\\\img_merge\\\\血红蛋白-75mg\\\\Project_X-5.5-2-400_ch00.tif', 'C:\\\\Users\\\\Jun Rao\\\\Desktop\\\\综合办公\\\\img_merge\\\\血红蛋白-75mg\\\\Project_X-5.5-2-800_ch00.tif']\n",
      "x_s 1072 804\n",
      "0\n",
      "Project_X-2.5-1-400_ch00.tif\n",
      "X-2.5-1-400\n",
      "x_s 1072 804\n",
      "1\n",
      "Project_X-2.5-1-800_ch00.tif\n",
      "X-2.5-1-800\n",
      "x_s 1072 804\n",
      "2\n",
      "Project_X-2.5-2-400_ch00.tif\n",
      "X-2.5-2-400\n",
      "x_s 1072 804\n",
      "3\n",
      "Project_X-2.5-2-800_ch00.tif\n",
      "X-2.5-2-800\n",
      "x_s 1072 804\n",
      "4\n",
      "Project_X-5.5-1-400_ch00.tif\n",
      "X-5.5-1-400\n",
      "x_s 1072 804\n",
      "5\n",
      "Project_X-5.5-1-800_ch00.tif\n",
      "X-5.5-1-800\n",
      "x_s 1072 804\n",
      "6\n",
      "Project_X-5.5-2-400_ch00.tif\n",
      "X-5.5-2-400\n",
      "x_s 1072 804\n",
      "7\n",
      "Project_X-5.5-2-800_ch00.tif\n",
      "X-5.5-2-800\n"
     ]
    }
   ],
   "source": [
    "image_dir_path = r'C:\\Users\\Jun Rao\\Desktop\\综合办公\\img_merge\\血红蛋白-75mg'  # 图片集地址\n",
    "image_size = 1080  # 每张小图片的大小\n",
    "image_colnum = 4  # 合并成一张图后，一行有几个小图\n",
    "merge_images(image_dir_path, image_size, image_colnum)"
   ]
  },
  {
   "cell_type": "code",
   "execution_count": 1,
   "id": "e625ba2f",
   "metadata": {
    "ExecuteTime": {
     "end_time": "2024-08-03T13:57:24.005758Z",
     "start_time": "2024-08-03T13:57:22.587223Z"
    }
   },
   "outputs": [
    {
     "ename": "ModuleNotFoundError",
     "evalue": "No module named 'cv2'",
     "output_type": "error",
     "traceback": [
      "\u001b[1;31m---------------------------------------------------------------------------\u001b[0m",
      "\u001b[1;31mModuleNotFoundError\u001b[0m                       Traceback (most recent call last)",
      "Cell \u001b[1;32mIn[1], line 1\u001b[0m\n\u001b[1;32m----> 1\u001b[0m \u001b[38;5;28;01mimport\u001b[39;00m \u001b[38;5;21;01mcv2\u001b[39;00m\n",
      "\u001b[1;31mModuleNotFoundError\u001b[0m: No module named 'cv2'"
     ]
    }
   ],
   "source": [
    "import cv2"
   ]
  },
  {
   "cell_type": "code",
   "execution_count": null,
   "id": "3d70c876",
   "metadata": {},
   "outputs": [],
   "source": []
  }
 ],
 "metadata": {
  "kernelspec": {
   "display_name": "Python 3 (ipykernel)",
   "language": "python",
   "name": "python3"
  },
  "language_info": {
   "codemirror_mode": {
    "name": "ipython",
    "version": 3
   },
   "file_extension": ".py",
   "mimetype": "text/x-python",
   "name": "python",
   "nbconvert_exporter": "python",
   "pygments_lexer": "ipython3",
   "version": "3.12.2"
  },
  "toc": {
   "base_numbering": 1,
   "nav_menu": {},
   "number_sections": true,
   "sideBar": true,
   "skip_h1_title": false,
   "title_cell": "Table of Contents",
   "title_sidebar": "Contents",
   "toc_cell": false,
   "toc_position": {},
   "toc_section_display": true,
   "toc_window_display": false
  },
  "varInspector": {
   "cols": {
    "lenName": 16,
    "lenType": 16,
    "lenVar": 40
   },
   "kernels_config": {
    "python": {
     "delete_cmd_postfix": "",
     "delete_cmd_prefix": "del ",
     "library": "var_list.py",
     "varRefreshCmd": "print(var_dic_list())"
    },
    "r": {
     "delete_cmd_postfix": ") ",
     "delete_cmd_prefix": "rm(",
     "library": "var_list.r",
     "varRefreshCmd": "cat(var_dic_list()) "
    }
   },
   "types_to_exclude": [
    "module",
    "function",
    "builtin_function_or_method",
    "instance",
    "_Feature"
   ],
   "window_display": false
  }
 },
 "nbformat": 4,
 "nbformat_minor": 5
}
